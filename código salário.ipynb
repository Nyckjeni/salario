{
 "cells": [
  {
   "cell_type": "code",
   "execution_count": 6,
   "metadata": {},
   "outputs": [
    {
     "name": "stdout",
     "output_type": "stream",
     "text": [
      "O  seu antigo salário era 1000  e seu novo salário é: 1100.0\n"
     ]
    }
   ],
   "source": [
    "cargo = int(input('Qual código do seu cargo?'))\n",
    "salario = int (input('Quanto você ganha?'))\n",
    "\n",
    "\n",
    "\n",
    "if( cargo==101 ):\n",
    "    \n",
    "    novoSalario1 = (salario*10/100)+ salario\n",
    "    \n",
    "    print('O  seu antigo salário era', salario,' e seu novo salário é:', novoSalario1) \n",
    "    \n",
    "elif (cargo==102):\n",
    "    \n",
    "    novoSalario2 = (salario*20/100) + salario\n",
    "     \n",
    "    print ('O  seu antigo salário era', salario,' e seu novo salário é:', novoSalario2 )\n",
    "\n",
    "elif(cargo==103):\n",
    "     \n",
    "     novoSalario3 = (salario*10/100) + salario\n",
    "     print ('O  seu antigo salário era', salario,' e seu novo salário é:', novoSalario3)\n",
    "    \n",
    "\n",
    "else:\n",
    "    \n",
    "    novoSalario4= (salario*40/100) + salario\n",
    "    print ('O  seu antigo salário era', salario,' e seu novo salário é:', novoSalario4)\n",
    "\n",
    "\n"
   ]
  }
 ],
 "metadata": {
  "kernelspec": {
   "display_name": "Python 3",
   "language": "python",
   "name": "python3"
  },
  "language_info": {
   "codemirror_mode": {
    "name": "ipython",
    "version": 3
   },
   "file_extension": ".py",
   "mimetype": "text/x-python",
   "name": "python",
   "nbconvert_exporter": "python",
   "pygments_lexer": "ipython3",
   "version": "3.12.-1"
  }
 },
 "nbformat": 4,
 "nbformat_minor": 2
}
